{
  "nbformat": 4,
  "nbformat_minor": 0,
  "metadata": {
    "colab": {
      "name": "lab 10",
      "provenance": [],
      "collapsed_sections": [],
      "include_colab_link": true
    },
    "kernelspec": {
      "name": "python3",
      "display_name": "Python 3"
    }
  },
  "cells": [
    {
      "cell_type": "markdown",
      "metadata": {
        "id": "view-in-github",
        "colab_type": "text"
      },
      "source": [
        "<a href=\"https://colab.research.google.com/github/annsita/python-programs/blob/main/lab_10.ipynb\" target=\"_parent\"><img src=\"https://colab.research.google.com/assets/colab-badge.svg\" alt=\"Open In Colab\"/></a>"
      ]
    },
    {
      "cell_type": "markdown",
      "metadata": {
        "id": "wj17UTp8ebm8"
      },
      "source": [
        "1. Write a program to demonstrate ZeroDivisionError and ValueError"
      ]
    },
    {
      "cell_type": "code",
      "metadata": {
        "id": "TjTJHCYy5YZf"
      },
      "source": [
        "try:\r\n",
        "   a1= int(input(\"enter first number:\"))\r\n",
        "   a2=int(input(\"enter second number:\"))\r\n",
        "   print(\"quotient=\",(n1/n2))\r\n",
        "except(ZeroDivisionError,ValueError) as e:\r\n",
        "   print(e)\r\n",
        "else:\r\n",
        "   print(\"divided succefully\")  \r\n",
        "finally:\r\n",
        "   print(\"finally block executed\")"
      ],
      "execution_count": null,
      "outputs": []
    },
    {
      "cell_type": "markdown",
      "metadata": {
        "id": "7VJyr8k_erEj"
      },
      "source": [
        "2.Write a program that accepts an integer from user and raises\r\n",
        "ValueError with argument ‘Abnormal Condition’, if the reading is\r\n",
        "not within 90 – 120."
      ]
    },
    {
      "cell_type": "code",
      "metadata": {
        "id": "mDgGCXYBe00o"
      },
      "source": [
        "n = int(input(\"Please enter an integer: \"))\r\n",
        "if(n<90 or  n>120):\r\n",
        "    raise ValueError(\"Abnormal Condition\") \r\n",
        "else:\r\n",
        "    print(n,\"is witin 90 and 120\")  \r\n",
        "exceptValueErrorasve\r\n",
        "print(ve)\r\n"
      ],
      "execution_count": null,
      "outputs": []
    },
    {
      "cell_type": "markdown",
      "metadata": {
        "id": "uFESTAtIe96n"
      },
      "source": [
        "3.Write a custom exception which is raised if user entered login\r\n",
        "credentials remain invalid."
      ]
    },
    {
      "cell_type": "code",
      "metadata": {
        "id": "SO2QzrU8fFbl"
      },
      "source": [
        "class checkEx(Exception):\r\n",
        "   pass\r\n",
        "try:\r\n",
        "   name =input(\"enter a username:\")\r\n",
        "   psw=input(\"enter a password:\")\r\n",
        "   a=\"gowrisankar8298@gmail.com\"\r\n",
        "   b=\"123456\"\r\n",
        "   if name==a and psw==b:\r\n",
        "      print(\"valid login\")\r\n",
        "   else:\r\n",
        "     raise checkEx(\"invalid login\")\r\n",
        "except checkEx as e :\r\n",
        "     print(e)\r\n"
      ],
      "execution_count": null,
      "outputs": []
    },
    {
      "cell_type": "markdown",
      "metadata": {
        "id": "UkqxeB8TghzX"
      },
      "source": [
        "4.Write example program to demonstrate Chained exception, re- raised exception and AssertError (self-study) in Python."
      ]
    },
    {
      "cell_type": "code",
      "metadata": {
        "id": "yo0_Gy3f3sbY"
      },
      "source": [
        "try:\r\n",
        "  x=int(input(\"enter an integer:\"))\r\n",
        "  try: \r\n",
        "    y=0\r\n",
        "    assert y!=0,\"invalid condition\"\r\n",
        "    print(x/y)\r\n",
        "  except AssertionError as msg:\r\n",
        "    print(msg)\r\n",
        "    raise\r\n",
        "  else:\r\n",
        "      print(\"result\",x/y)\r\n",
        "except AssertionError as ae:\r\n",
        "      print(\"Re raised exception:\",ae)"
      ],
      "execution_count": null,
      "outputs": []
    }
  ]
}